{
 "cells": [
  {
   "cell_type": "code",
   "execution_count": null,
   "id": "bf2fbd45",
   "metadata": {},
   "outputs": [],
   "source": [
    "import requests\n",
    "from groq import Groq\n",
    "from typing import TypedDict, Dict, List\n",
    "from langgraph.graph import StateGraph, END\n",
    "from langchain_core.prompts import ChatPromptTemplate\n",
    "\n",
    "#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\n",
    "\n",
    "ashu = 12 "
   ]
  },
  {
   "cell_type": "code",
   "execution_count": 210,
   "id": "75705b9f",
   "metadata": {},
   "outputs": [],
   "source": [
    "from langchain.chat_models import ChatOpenAI\n",
    "\n",
    "# Initialize the GROQ LLM using OpenAI-compatible endpoint\n",
    "llm = ChatOpenAI(\n",
    "    base_url=\"https://api.groq.com/openai/v1\",\n",
    "    api_key=\"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\",  # replace with your GROQ API key\n",
    "    model=\"llama3-70b-8192\",      # or another supported model like mixtral\n",
    ")"
   ]
  },
  {
   "cell_type": "code",
   "execution_count": 211,
   "id": "23f0654d",
   "metadata": {},
   "outputs": [],
   "source": [
    "from typing_extensions import TypedDict\n",
    "\n",
    "class State(TypedDict):\n",
    "    user_problem: str\n",
    "    specialist_agent: str\n",
    "    specialist_response: str\n",
    "    response: str"
   ]
  },
  {
   "cell_type": "code",
   "execution_count": 212,
   "id": "33313194",
   "metadata": {},
   "outputs": [],
   "source": [
    "from langgraph.graph import StateGraph,START,END\n",
    "\n",
    "workflow = StateGraph(State)"
   ]
  },
  {
   "cell_type": "code",
   "execution_count": null,
   "id": "781f6714",
   "metadata": {},
   "outputs": [],
   "source": [
    "# Problem Classification\n",
    "def problem_classification(state: State) -> State:\n",
    "    print(\"\\n problem classification agent : \")\n",
    "    prompt = ChatPromptTemplate.from_template(\n",
    "        \"You are an AI support agent. Your task is to analyze the user's query and determine which department it should be routed to. Based on the content of the query, return one of the following categories:\"\n",
    "\n",
    "        \"'billing' — for issues related to payments, invoices, charges, or refunds.\"\n",
    "        \"'tech' — for issues related to account access, login problems, bugs, or technical difficulties.\"\n",
    "        \"'shipping' — for issues related to order tracking, delivery, or shipment status. \"\n",
    "        \"Respond with either 'billing' or 'tech' or 'shipping'\"\n",
    "        \"User_problem : {user_problem}\"\n",
    "    )\n",
    "    chain = prompt | llm\n",
    "    Specialist_required = chain.invoke({\"user_problem\": state[\"user_problem\"]}).content\n",
    "    print(f\"Specialist : {Specialist_required}\")\n",
    "    return {\"specialist_agent\" : Specialist_required}\n",
    "\n",
    "# billing agent\n",
    "def billing_agent(state: State) -> State:\n",
    "    print(\"\\n billing agent : \")\n",
    "    prompt = ChatPromptTemplate.from_template(\n",
    "        \"\"\"      \n",
    "        - Understand the user's concern based on their message and any provided context.\n",
    "        - Identify if the issue is related to charges, refunds, invoices, subscriptions, or payment methods.\n",
    "        - Simulate a helpful and professional response to resolve the issue.\n",
    "        - If the issue cannot be resolved automatically, suggest the next best step (e.g., contact support or escalate).\n",
    "        \"\"\"\n",
    "        \"\"\"\n",
    "        - When responding:\n",
    "            Be clear and concise.\n",
    "            Maintain a polite and professional tone.\n",
    "            Include relevant details if available (e.g., refund timelines, invoice numbers, etc.).\n",
    "        \"\"\"\n",
    "        \"User_problem : {user_problem}\"\n",
    "    )\n",
    "    chain = prompt | llm\n",
    "    specialist_response = chain.invoke({\"user_problem\": state[\"user_problem\"]}).content\n",
    "    print(f\"specialist_response : {specialist_response}\")\n",
    "    return {\"specialist_response\" : specialist_response}\n",
    "\n",
    "\n",
    "# tech agent\n",
    "def tech_agent(state: State) -> State:\n",
    "    print(\"\\n tech agent : \")\n",
    "    prompt = ChatPromptTemplate.from_template(\n",
    "        \"\"\"      \n",
    "        A)  You are a customer support agent specializing in technical issues. The user's query has already been classified as related to technical support.\n",
    "        B)  Your task is to:\n",
    "            -  Understand the user's problem based on their message and any provided context.\n",
    "            -  Identify if the issue involves login problems, account access, errors, bugs, system crashes, or other technical difficulties.\n",
    "            -  Simulate a helpful and professional response that guides the user toward resolving the issue.\n",
    "            -  If the issue cannot be resolved automatically, suggest the next best step (e.g., clear instructions for troubleshooting, or escalation to human support).\n",
    "        \"\"\"\n",
    "        \"\"\"\n",
    "        C)  When responding:\n",
    "                - Be clear, specific, and actionable.\n",
    "                - Maintain a polite and empathetic tone.\n",
    "                - Use plain language that non-technical users can understand.\n",
    "        \"\"\"\n",
    "        \"User_problem : {user_problem}\"\n",
    "    )\n",
    "    chain = prompt | llm\n",
    "    specialist_response = chain.invoke({\"user_problem\": state[\"user_problem\"]}).content\n",
    "    print(f\"specialist_response : {specialist_response}\")\n",
    "    return {\"specialist_response\" : specialist_response}\n",
    "\n",
    "\n",
    "# shipping agent\n",
    "def shipping_agent(state: State) -> State:\n",
    "    print(\"\\n shipping agent : \")\n",
    "    prompt = ChatPromptTemplate.from_template(\n",
    "        \"\"\"      \n",
    "        A) You are a customer support agent specializing in shipping and delivery-related issues. The user's query has already been categorized as related to shipping.\n",
    "        B) Your task is to:\n",
    "            - Understand the user's concern based on their message and any provided context.\n",
    "            - Identify if the issue involves order tracking, delayed delivery, shipment status, address updates, or missing packages.\n",
    "            - Simulate a helpful and professional response that provides the latest information or suggests next steps.\n",
    "            - If the issue cannot be resolved automatically, direct the user to the appropriate escalation or support channel.\n",
    "        \"\"\"\n",
    "        \"\"\"\n",
    "        C)  When responding:\n",
    "            - Be clear, polite, and reassuring.\n",
    "            - Include tracking information or estimated delivery times if available.\n",
    "            - Offer next steps when needed (e.g., “We’ve contacted the courier…” or “You can update your address using…”).\n",
    "                \"\"\"\n",
    "        \"User_problem : {user_problem}\"\n",
    "    )\n",
    "    chain = prompt | llm\n",
    "    specialist_response = chain.invoke({\"user_problem\": state[\"user_problem\"]}).content\n",
    "    print(f\"specialist_response : {specialist_response}\")\n",
    "    return {\"specialist_response\" : specialist_response}\n",
    "\n",
    "\n",
    "def summary_agent(state:State) ->State:\n",
    "    prompt = ChatPromptTemplate.from_template(\n",
    "    \"\"\"\n",
    "    A) You are a summary Agent responsible for summarizing the outcome of a support conversation and presenting it clearly to the user.\n",
    "    B) You will receive:\n",
    "        - The original user query.\n",
    "        - The structured response from a specialist agent (Billing, Tech, or Shipping), including a summary message and status.\n",
    "\n",
    "    C) Your task is to:\n",
    "        - Review the original query and the summary provided.\n",
    "\n",
    "    D) while giving summary take care of below points :\n",
    "        - Clearly communicates the outcome.\n",
    "        - Maintains a helpful and empathetic tone.\n",
    "        - Offers next steps or contact options if the issue is unresolved.\n",
    "        - Use plain language. Avoid jargon. Your goal is to leave the user feeling informed and supported.\n",
    "    \"\"\"\n",
    "    \"specialist_response : {specialist_response}\")\n",
    "  \n",
    "    chain = prompt | llm\n",
    "    Summarised_response = chain.invoke({\"specialist_response\": state[\"specialist_response\"]}).content\n",
    "    return {\"response\" : Summarised_response}\n"
   ]
  },
  {
   "cell_type": "code",
   "execution_count": 214,
   "id": "30ddc158",
   "metadata": {},
   "outputs": [],
   "source": [
    "def route_agent(state:State) -> str:\n",
    "    if 'billing' in state['specialist_agent'].lower():\n",
    "        return 'billing_agent'\n",
    "    elif 'tech' in state['specialist_agent'].lower():\n",
    "        return 'tech_agent'\n",
    "    elif 'shipping' in state['specialist_agent'].lower():\n",
    "        return 'shipping_agent'\n",
    "    else:\n",
    "        return \"something wrong\"\n",
    "    \n",
    "    \n"
   ]
  },
  {
   "cell_type": "code",
   "execution_count": 215,
   "id": "ed98b0d1",
   "metadata": {},
   "outputs": [
    {
     "data": {
      "text/plain": [
       "<langgraph.graph.state.StateGraph at 0x1bca232b110>"
      ]
     },
     "execution_count": 215,
     "metadata": {},
     "output_type": "execute_result"
    }
   ],
   "source": [
    "workflow.add_node('problem_classification',problem_classification)\n",
    "workflow.add_node('billing_agent',billing_agent)\n",
    "workflow.add_node('tech_agent',tech_agent)\n",
    "workflow.add_node('shipping_agent',shipping_agent)\n",
    "workflow.add_node('summary_agent',summary_agent)"
   ]
  },
  {
   "cell_type": "code",
   "execution_count": 216,
   "id": "c4aecb7a",
   "metadata": {},
   "outputs": [
    {
     "data": {
      "text/plain": [
       "<langgraph.graph.state.StateGraph at 0x1bca232b110>"
      ]
     },
     "execution_count": 216,
     "metadata": {},
     "output_type": "execute_result"
    }
   ],
   "source": [
    "workflow.set_entry_point(\"problem_classification\")"
   ]
  },
  {
   "cell_type": "code",
   "execution_count": 217,
   "id": "49efb9d7",
   "metadata": {},
   "outputs": [
    {
     "data": {
      "text/plain": [
       "<langgraph.graph.state.StateGraph at 0x1bca232b110>"
      ]
     },
     "execution_count": 217,
     "metadata": {},
     "output_type": "execute_result"
    }
   ],
   "source": [
    "#workflow.add_edge('problem_classification',route_agent)\n",
    "workflow.add_edge('billing_agent', 'summary_agent')\n",
    "workflow.add_edge('tech_agent', 'summary_agent')\n",
    "workflow.add_edge('shipping_agent', 'summary_agent')\n",
    "workflow.add_conditional_edges(\n",
    "    'problem_classification',\n",
    "    route_agent,\n",
    "    {\n",
    "        \"billing_agent\": \"billing_agent\",\n",
    "        \"tech_agent\": \"tech_agent\",\n",
    "        \"shipping_agent\": \"shipping_agent\"\n",
    "    }\n",
    ")"
   ]
  },
  {
   "cell_type": "code",
   "execution_count": 218,
   "id": "2bac9c7b",
   "metadata": {},
   "outputs": [],
   "source": [
    "app = workflow.compile()"
   ]
  },
  {
   "cell_type": "code",
   "execution_count": 219,
   "id": "fd10318f",
   "metadata": {},
   "outputs": [
    {
     "data": {
      "image/png": "[encoded data removed]",
      "text/plain": [
       "<IPython.core.display.Image object>"
      ]
     },
     "metadata": {},
     "output_type": "display_data"
    }
   ],
   "source": [
    "from IPython.display import Image, display\n",
    "\n",
    "display(\n",
    "    Image(\n",
    "        app.get_graph().draw_mermaid_png()\n",
    "    )\n",
    "\n",
    ")"
   ]
  },
  {
   "cell_type": "code",
   "execution_count": 220,
   "id": "6241b5c4",
   "metadata": {},
   "outputs": [],
   "source": [
    "\n",
    "\n",
    "def run_candidate_screening(user_problem: str):\n",
    "\n",
    "  results = app.invoke({\"user_problem\" : user_problem})\n",
    "  return {\n",
    "      \"user_problem\" : results[\"user_problem\"],\n",
    "      \"specialist_agent\" : results[\"specialist_agent\"],\n",
    "      \"specialist_response\" : results[\"specialist_response\"],\n",
    "      \"response\" : results[\"response\"]\n",
    "  }"
   ]
  },
  {
   "cell_type": "code",
   "execution_count": 223,
   "id": "3b710fde",
   "metadata": {},
   "outputs": [
    {
     "name": "stdout",
     "output_type": "stream",
     "text": [
      "\n",
      " problem classification agent : \n",
      "Specialist : I'd be happy to help!\n",
      "\n",
      "Based on your query, \"i have to pay mobile amount whom i have to pay\", I believe this issue should be routed to the **'billing'** department, as it appears to be related to making a payment for a mobile amount.\n",
      "\n",
      " billing agent : \n",
      "specialist_response : I understand that you're concerned about settling a mobile bill payment. \n",
      "\n",
      "To clarify, you're unsure about whom to pay the mobile bill to or how to proceed with the payment. Is that correct? \n",
      "\n",
      "If you could provide me with more details about your mobile provider, I'll do my best to guide you through the payment process. Alternatively, you can also reach out to your mobile service provider's customer support directly for assistance.\n",
      "\n",
      "\n",
      "Computed Results :\n",
      "user_problem: i have to pay mobile amount whom i have to pay\n",
      "specialist_agent : I'd be happy to help!\n",
      "\n",
      "Based on your query, \"i have to pay mobile amount whom i have to pay\", I believe this issue should be routed to the **'billing'** department, as it appears to be related to making a payment for a mobile amount.\n",
      "specialist_response: I understand that you're concerned about settling a mobile bill payment. \n",
      "\n",
      "To clarify, you're unsure about whom to pay the mobile bill to or how to proceed with the payment. Is that correct? \n",
      "\n",
      "If you could provide me with more details about your mobile provider, I'll do my best to guide you through the payment process. Alternatively, you can also reach out to your mobile service provider's customer support directly for assistance.\n",
      "response: Here is a summary of our conversation:\n",
      "\n",
      "You reached out to us because you're unsure about who to pay your mobile bill to or how to proceed with the payment. I'm here to help you with that. To better assist you, could you please share more details about your mobile provider? Alternatively, you can also contact your mobile service provider's customer support directly for help. We're here to support you until your issue is resolved.\n"
     ]
    }
   ],
   "source": [
    "user_problem = \"i have to pay mobile amount whom i have to pay\"\n",
    "results = run_candidate_screening(user_problem)\n",
    "print(\"\\n\\nComputed Results :\")\n",
    "print(f\"user_problem: {user_problem}\")\n",
    "print(f\"specialist_agent : {results['specialist_agent']}\")\n",
    "print(f\"specialist_response: {results['specialist_response']}\")\n",
    "print(f\"response: {results['response']}\")"
   ]
  }
 ],
 "metadata": {
  "kernelspec": {
   "display_name": "Python 3",
   "language": "python",
   "name": "python3"
  },
  "language_info": {
   "codemirror_mode": {
    "name": "ipython",
    "version": 3
   },
   "file_extension": ".py",
   "mimetype": "text/x-python",
   "name": "python",
   "nbconvert_exporter": "python",
   "pygments_lexer": "ipython3",
   "version": "3.13.2"
  }
 },
 "nbformat": 4,
 "nbformat_minor": 5
}
